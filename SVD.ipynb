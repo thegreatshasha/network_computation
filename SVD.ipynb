{
 "cells": [
  {
   "cell_type": "code",
   "execution_count": 1,
   "metadata": {},
   "outputs": [
    {
     "name": "stdout",
     "output_type": "stream",
     "text": [
      "2\n"
     ]
    }
   ],
   "source": [
    "print 1+1"
   ]
  },
  {
   "cell_type": "code",
   "execution_count": 2,
   "metadata": {},
   "outputs": [],
   "source": [
    "import numpy as np"
   ]
  },
  {
   "cell_type": "code",
   "execution_count": 7,
   "metadata": {},
   "outputs": [],
   "source": [
    "data = np.random.choice([0,1], size=(4,4,100))"
   ]
  },
  {
   "cell_type": "code",
   "execution_count": 17,
   "metadata": {},
   "outputs": [
    {
     "name": "stdout",
     "output_type": "stream",
     "text": [
      "('neuron_0', array([ 1.        ,  1.23733442,  1.20033238,  1.14894748]))\n",
      "('neuron_1', array([ 1.10384028,  1.        ,  1.10906535,  0.97128661]))\n",
      "('neuron_2', array([ 0.81429659,  1.0136181 ,  1.        ,  1.05288798]))\n",
      "('neuron_3', array([ 1.02021106,  1.17723511,  0.98843528,  1.        ]))\n"
     ]
    }
   ],
   "source": [
    "for neuron in range(data.shape[0]):\n",
    "    # Get time series matrix for a particular neuron\n",
    "    time_series = data[neuron]\n",
    "    \n",
    "    # Do singular value decomposition of the time series data\n",
    "    U,s,V = np.linalg.svd(time_series)\n",
    "    \n",
    "    # Is this correct?\n",
    "    U1 = U[:,0]\n",
    "    prob = abs(U1)/abs(U1[neuron])\n",
    "    \n",
    "    print('neuron_%d'%neuron, prob)"
   ]
  }
 ],
 "metadata": {
  "kernelspec": {
   "display_name": "Python 2",
   "language": "python",
   "name": "python2"
  },
  "language_info": {
   "codemirror_mode": {
    "name": "ipython",
    "version": 2
   },
   "file_extension": ".py",
   "mimetype": "text/x-python",
   "name": "python",
   "nbconvert_exporter": "python",
   "pygments_lexer": "ipython2",
   "version": "2.7.12+"
  }
 },
 "nbformat": 4,
 "nbformat_minor": 2
}
